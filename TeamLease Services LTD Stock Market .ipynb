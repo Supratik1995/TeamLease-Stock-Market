{
 "cells": [
  {
   "cell_type": "code",
   "execution_count": 1,
   "metadata": {},
   "outputs": [
    {
     "data": {
      "text/html": [
       "<div>\n",
       "<style scoped>\n",
       "    .dataframe tbody tr th:only-of-type {\n",
       "        vertical-align: middle;\n",
       "    }\n",
       "\n",
       "    .dataframe tbody tr th {\n",
       "        vertical-align: top;\n",
       "    }\n",
       "\n",
       "    .dataframe thead th {\n",
       "        text-align: right;\n",
       "    }\n",
       "</style>\n",
       "<table border=\"1\" class=\"dataframe\">\n",
       "  <thead>\n",
       "    <tr style=\"text-align: right;\">\n",
       "      <th></th>\n",
       "      <th>Date</th>\n",
       "      <th>Open</th>\n",
       "      <th>High</th>\n",
       "      <th>Low</th>\n",
       "      <th>Close</th>\n",
       "      <th>WAP</th>\n",
       "      <th>No. of Shares</th>\n",
       "      <th>No. of Trades</th>\n",
       "      <th>Total Turnover</th>\n",
       "      <th>Deliverable Quantity</th>\n",
       "      <th>% Deli. Qty to Traded Qty</th>\n",
       "      <th>Spread H-L</th>\n",
       "      <th>Spread C-O</th>\n",
       "    </tr>\n",
       "    <tr>\n",
       "      <th>Date</th>\n",
       "      <th></th>\n",
       "      <th></th>\n",
       "      <th></th>\n",
       "      <th></th>\n",
       "      <th></th>\n",
       "      <th></th>\n",
       "      <th></th>\n",
       "      <th></th>\n",
       "      <th></th>\n",
       "      <th></th>\n",
       "      <th></th>\n",
       "      <th></th>\n",
       "      <th></th>\n",
       "    </tr>\n",
       "  </thead>\n",
       "  <tbody>\n",
       "    <tr>\n",
       "      <th>2019-02-21</th>\n",
       "      <td>2019-02-21</td>\n",
       "      <td>3110.95</td>\n",
       "      <td>3129.00</td>\n",
       "      <td>3071.30</td>\n",
       "      <td>3089.00</td>\n",
       "      <td>3110.03</td>\n",
       "      <td>5047.0</td>\n",
       "      <td>216.0</td>\n",
       "      <td>15696332.0</td>\n",
       "      <td>98.0</td>\n",
       "      <td>1.94</td>\n",
       "      <td>57.7</td>\n",
       "      <td>-21.95</td>\n",
       "    </tr>\n",
       "    <tr>\n",
       "      <th>2019-02-20</th>\n",
       "      <td>2019-02-20</td>\n",
       "      <td>3109.05</td>\n",
       "      <td>3156.65</td>\n",
       "      <td>3067.45</td>\n",
       "      <td>3093.30</td>\n",
       "      <td>3122.33</td>\n",
       "      <td>7719.0</td>\n",
       "      <td>539.0</td>\n",
       "      <td>24101232.0</td>\n",
       "      <td>229.0</td>\n",
       "      <td>2.97</td>\n",
       "      <td>89.2</td>\n",
       "      <td>-15.75</td>\n",
       "    </tr>\n",
       "    <tr>\n",
       "      <th>2019-02-19</th>\n",
       "      <td>2019-02-19</td>\n",
       "      <td>2920.00</td>\n",
       "      <td>3201.40</td>\n",
       "      <td>2920.00</td>\n",
       "      <td>3109.55</td>\n",
       "      <td>3131.98</td>\n",
       "      <td>1635.0</td>\n",
       "      <td>532.0</td>\n",
       "      <td>5120785.0</td>\n",
       "      <td>270.0</td>\n",
       "      <td>16.51</td>\n",
       "      <td>281.4</td>\n",
       "      <td>189.55</td>\n",
       "    </tr>\n",
       "    <tr>\n",
       "      <th>2019-02-18</th>\n",
       "      <td>2019-02-18</td>\n",
       "      <td>2939.00</td>\n",
       "      <td>3049.00</td>\n",
       "      <td>2939.00</td>\n",
       "      <td>3014.10</td>\n",
       "      <td>2992.40</td>\n",
       "      <td>967.0</td>\n",
       "      <td>335.0</td>\n",
       "      <td>2893647.0</td>\n",
       "      <td>467.0</td>\n",
       "      <td>48.29</td>\n",
       "      <td>110.0</td>\n",
       "      <td>75.10</td>\n",
       "    </tr>\n",
       "    <tr>\n",
       "      <th>2019-02-15</th>\n",
       "      <td>2019-02-15</td>\n",
       "      <td>2912.15</td>\n",
       "      <td>2973.30</td>\n",
       "      <td>2821.00</td>\n",
       "      <td>2866.95</td>\n",
       "      <td>2914.74</td>\n",
       "      <td>18952.0</td>\n",
       "      <td>341.0</td>\n",
       "      <td>55240146.0</td>\n",
       "      <td>15174.0</td>\n",
       "      <td>80.07</td>\n",
       "      <td>152.3</td>\n",
       "      <td>-45.20</td>\n",
       "    </tr>\n",
       "  </tbody>\n",
       "</table>\n",
       "</div>"
      ],
      "text/plain": [
       "                  Date     Open     High      Low    Close      WAP  \\\n",
       "Date                                                                  \n",
       "2019-02-21  2019-02-21  3110.95  3129.00  3071.30  3089.00  3110.03   \n",
       "2019-02-20  2019-02-20  3109.05  3156.65  3067.45  3093.30  3122.33   \n",
       "2019-02-19  2019-02-19  2920.00  3201.40  2920.00  3109.55  3131.98   \n",
       "2019-02-18  2019-02-18  2939.00  3049.00  2939.00  3014.10  2992.40   \n",
       "2019-02-15  2019-02-15  2912.15  2973.30  2821.00  2866.95  2914.74   \n",
       "\n",
       "            No. of Shares  No. of Trades  Total Turnover  \\\n",
       "Date                                                       \n",
       "2019-02-21         5047.0          216.0      15696332.0   \n",
       "2019-02-20         7719.0          539.0      24101232.0   \n",
       "2019-02-19         1635.0          532.0       5120785.0   \n",
       "2019-02-18          967.0          335.0       2893647.0   \n",
       "2019-02-15        18952.0          341.0      55240146.0   \n",
       "\n",
       "            Deliverable Quantity  % Deli. Qty to Traded Qty  Spread H-L  \\\n",
       "Date                                                                      \n",
       "2019-02-21                  98.0                       1.94        57.7   \n",
       "2019-02-20                 229.0                       2.97        89.2   \n",
       "2019-02-19                 270.0                      16.51       281.4   \n",
       "2019-02-18                 467.0                      48.29       110.0   \n",
       "2019-02-15               15174.0                      80.07       152.3   \n",
       "\n",
       "            Spread C-O  \n",
       "Date                    \n",
       "2019-02-21      -21.95  \n",
       "2019-02-20      -15.75  \n",
       "2019-02-19      189.55  \n",
       "2019-02-18       75.10  \n",
       "2019-02-15      -45.20  "
      ]
     },
     "execution_count": 1,
     "metadata": {},
     "output_type": "execute_result"
    }
   ],
   "source": [
    "import pandas as pd\n",
    "import numpy as np\n",
    "import datetime as dt\n",
    "\n",
    "TeamLease=pd.read_csv('BSE-BOM539658.csv')\n",
    "TeamLease.index = pd.to_datetime(TeamLease.Date)\n",
    "TeamLease.head()"
   ]
  },
  {
   "cell_type": "code",
   "execution_count": 2,
   "metadata": {},
   "outputs": [
    {
     "data": {
      "image/png": "[encoded data removed]",
      "text/plain": [
       "<Figure size 864x360 with 1 Axes>"
      ]
     },
     "metadata": {},
     "output_type": "display_data"
    }
   ],
   "source": [
    "import matplotlib.pyplot as plt\n",
    "% matplotlib inline\n",
    "TeamLease_ohlc=TeamLease['Close']\n",
    "TeamLease_ohlc.plot(title='Close Price History',figsize= (12,5))\n",
    "plt.xlabel('Date')\n",
    "plt.ylabel('Price')\n",
    "plt.grid(True)"
   ]
  },
  {
   "cell_type": "code",
   "execution_count": 3,
   "metadata": {},
   "outputs": [
    {
     "data": {
      "text/html": [
       "<div>\n",
       "<style scoped>\n",
       "    .dataframe tbody tr th:only-of-type {\n",
       "        vertical-align: middle;\n",
       "    }\n",
       "\n",
       "    .dataframe tbody tr th {\n",
       "        vertical-align: top;\n",
       "    }\n",
       "\n",
       "    .dataframe thead th {\n",
       "        text-align: right;\n",
       "    }\n",
       "</style>\n",
       "<table border=\"1\" class=\"dataframe\">\n",
       "  <thead>\n",
       "    <tr style=\"text-align: right;\">\n",
       "      <th></th>\n",
       "      <th>Date</th>\n",
       "      <th>Close</th>\n",
       "    </tr>\n",
       "  </thead>\n",
       "  <tbody>\n",
       "    <tr>\n",
       "      <th>0</th>\n",
       "      <td>2017-02-21</td>\n",
       "      <td>864.45</td>\n",
       "    </tr>\n",
       "    <tr>\n",
       "      <th>1</th>\n",
       "      <td>2017-02-22</td>\n",
       "      <td>861.95</td>\n",
       "    </tr>\n",
       "    <tr>\n",
       "      <th>2</th>\n",
       "      <td>2017-02-23</td>\n",
       "      <td>861.1</td>\n",
       "    </tr>\n",
       "    <tr>\n",
       "      <th>3</th>\n",
       "      <td>2017-02-27</td>\n",
       "      <td>856.9</td>\n",
       "    </tr>\n",
       "    <tr>\n",
       "      <th>4</th>\n",
       "      <td>2017-02-28</td>\n",
       "      <td>855.5</td>\n",
       "    </tr>\n",
       "  </tbody>\n",
       "</table>\n",
       "</div>"
      ],
      "text/plain": [
       "         Date   Close\n",
       "0  2017-02-21  864.45\n",
       "1  2017-02-22  861.95\n",
       "2  2017-02-23   861.1\n",
       "3  2017-02-27   856.9\n",
       "4  2017-02-28   855.5"
      ]
     },
     "execution_count": 3,
     "metadata": {},
     "output_type": "execute_result"
    }
   ],
   "source": [
    "data = TeamLease.sort_index(ascending=True, axis=0)\n",
    "new_data = pd.DataFrame(index=range(0,len(TeamLease)),columns=['Date', 'Close'])\n",
    "\n",
    "for i in range(0,len(data)):\n",
    "    new_data['Date'][i] = data['Date'][i]\n",
    "    new_data['Close'][i] = data['Close'][i]\n",
    "new_data.head()    "
   ]
  },
  {
   "cell_type": "code",
   "execution_count": 4,
   "metadata": {},
   "outputs": [],
   "source": [
    "train=new_data[:390]\n",
    "test=new_data[390:]"
   ]
  },
  {
   "cell_type": "code",
   "execution_count": 5,
   "metadata": {},
   "outputs": [
    {
     "data": {
      "text/plain": [
       "((495, 2), (390, 2), (105, 2))"
      ]
     },
     "execution_count": 5,
     "metadata": {},
     "output_type": "execute_result"
    }
   ],
   "source": [
    "new_data.shape,train.shape,test.shape"
   ]
  },
  {
   "cell_type": "code",
   "execution_count": 6,
   "metadata": {},
   "outputs": [
    {
     "data": {
      "text/plain": [
       "('2017-02-21', '2018-09-17', '2018-09-18', '2019-02-21')"
      ]
     },
     "execution_count": 6,
     "metadata": {},
     "output_type": "execute_result"
    }
   ],
   "source": [
    "train['Date'].min(), train['Date'].max(), test['Date'].min(), test['Date'].max()"
   ]
  },
  {
   "cell_type": "code",
   "execution_count": 7,
   "metadata": {},
   "outputs": [],
   "source": [
    "preds = []\n",
    "for i in range(0,105):\n",
    "    a = train['Close'][len(train)-105+i:].sum() + sum(preds)\n",
    "    b = a/105\n",
    "    preds.append(b)   "
   ]
  },
  {
   "cell_type": "code",
   "execution_count": 8,
   "metadata": {},
   "outputs": [
    {
     "data": {
      "text/plain": [
       "220.58481567885852"
      ]
     },
     "execution_count": 8,
     "metadata": {},
     "output_type": "execute_result"
    }
   ],
   "source": [
    "rms=np.sqrt(np.mean(np.power((np.array(test['Close'])-preds),2)))\n",
    "rms"
   ]
  },
  {
   "cell_type": "code",
   "execution_count": 9,
   "metadata": {},
   "outputs": [
    {
     "name": "stderr",
     "output_type": "stream",
     "text": [
      "C:\\Anaconda3\\lib\\site-packages\\ipykernel_launcher.py:1: SettingWithCopyWarning: \n",
      "A value is trying to be set on a copy of a slice from a DataFrame.\n",
      "Try using .loc[row_indexer,col_indexer] = value instead\n",
      "\n",
      "See the caveats in the documentation: http://pandas.pydata.org/pandas-docs/stable/indexing.html#indexing-view-versus-copy\n",
      "  \"\"\"Entry point for launching an IPython kernel.\n"
     ]
    },
    {
     "data": {
      "image/png": "[encoded data removed]",
      "text/plain": [
       "<Figure size 864x360 with 1 Axes>"
      ]
     },
     "metadata": {},
     "output_type": "display_data"
    }
   ],
   "source": [
    "test['Predictions'] = preds\n",
    "train=train['Close']\n",
    "train.plot(figsize=(12,5))\n",
    "plt.plot(test[['Close', 'Predictions']])\n",
    "plt.grid(True)"
   ]
  },
  {
   "cell_type": "code",
   "execution_count": null,
   "metadata": {},
   "outputs": [],
   "source": []
  }
 ],
 "metadata": {
  "kernelspec": {
   "display_name": "Python 3",
   "language": "python",
   "name": "python3"
  },
  "language_info": {
   "codemirror_mode": {
    "name": "ipython",
    "version": 3
   },
   "file_extension": ".py",
   "mimetype": "text/x-python",
   "name": "python",
   "nbconvert_exporter": "python",
   "pygments_lexer": "ipython3",
   "version": "3.6.5"
  }
 },
 "nbformat": 4,
 "nbformat_minor": 2
}
